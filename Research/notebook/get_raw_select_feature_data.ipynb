{
 "cells": [
  {
   "cell_type": "code",
   "execution_count": null,
   "id": "f0f60baf",
   "metadata": {},
   "outputs": [
    {
     "name": "stderr",
     "output_type": "stream",
     "text": [
      "c:\\Users\\dangn\\miniconda3\\envs\\ddos\\lib\\site-packages\\tqdm\\auto.py:21: TqdmWarning: IProgress not found. Please update jupyter and ipywidgets. See https://ipywidgets.readthedocs.io/en/stable/user_install.html\n",
      "  from .autonotebook import tqdm as notebook_tqdm\n"
     ]
    }
   ],
   "source": [
    "import pandas as pd\n",
    "from sklearn.ensemble import RandomForestClassifier\n",
    "from sklearn.model_selection import train_test_split\n",
    "from sklearn.pipeline import Pipeline\n",
    "from sklearn.compose import ColumnTransformer\n",
    "from sklearn.preprocessing import StandardScaler\n",
    "from sklearn.impute import SimpleImputer\n",
    "from sklearn.metrics import accuracy_score, classification_report, confusion_matrix\n",
    "from sklearn.feature_selection import VarianceThreshold\n",
    "from sklearn.compose import make_column_selector as selector\n",
    "import joblib\n",
    "from flow_process import Preprocessor\n",
    "from datasets import load_dataset\n",
    "# 1) Load\n",
    "norm_data = Preprocessor(\"CIC-IDS2017\")\n",
    "df_all = load_dataset(\"c01dsnap/CIC-IDS2017\")\n",
    "df_norm_colums = norm_data.norm_name_columns(df_all[\"train\"])"
   ]
  },
  {
   "cell_type": "code",
   "execution_count": 2,
   "id": "650b9456",
   "metadata": {},
   "outputs": [
    {
     "name": "stdout",
     "output_type": "stream",
     "text": [
      "['BENIGN', 'DDoS', 'PortScan', 'Bot', 'Infiltration', 'Web Attack � Brute Force', 'Web Attack � XSS', 'Web Attack � Sql Injection', 'FTP-Patator', 'SSH-Patator', 'DoS slowloris', 'DoS Slowhttptest', 'DoS Hulk', 'DoS GoldenEye', 'Heartbleed']\n",
      "Số lượng class: 15\n"
     ]
    }
   ],
   "source": [
    "unique_labels = df_norm_colums.unique(\"Label\")\n",
    "print(unique_labels)\n",
    "print(\"Số lượng class:\", len(unique_labels))"
   ]
  },
  {
   "cell_type": "code",
   "execution_count": 3,
   "id": "140195f9",
   "metadata": {},
   "outputs": [
    {
     "name": "stdout",
     "output_type": "stream",
     "text": [
      "'BENIGN'\n",
      "'DDoS'\n",
      "'PortScan'\n",
      "'Bot'\n",
      "'Infiltration'\n",
      "'Web Attack � Brute Force'\n",
      "'Web Attack � XSS'\n",
      "'Web Attack � Sql Injection'\n",
      "'FTP-Patator'\n",
      "'SSH-Patator'\n",
      "'DoS slowloris'\n",
      "'DoS Slowhttptest'\n",
      "'DoS Hulk'\n",
      "'DoS GoldenEye'\n",
      "'Heartbleed'\n"
     ]
    }
   ],
   "source": [
    "for lbl in unique_labels:\n",
    "    print(repr(lbl))"
   ]
  },
  {
   "cell_type": "code",
   "execution_count": 5,
   "id": "aaad51ef",
   "metadata": {},
   "outputs": [
    {
     "name": "stdout",
     "output_type": "stream",
     "text": [
      "['BENIGN' 'DDoS' 'PortScan' 'Bot' 'Infiltration'\n",
      " 'Web Attack � Brute Force' 'Web Attack � XSS'\n",
      " 'Web Attack � Sql Injection' 'FTP-Patator' 'SSH-Patator' 'DoS slowloris'\n",
      " 'DoS Slowhttptest' 'DoS Hulk' 'DoS GoldenEye' 'Heartbleed']\n",
      "Index(['Destination Port', 'Flow Duration', 'Total Fwd Packets',\n",
      "       'Total Backward Packets', 'Total Length of Fwd Packets',\n",
      "       'Total Length of Bwd Packets', 'Fwd Packet Length Max',\n",
      "       'Fwd Packet Length Min', 'Fwd Packet Length Mean',\n",
      "       'Fwd Packet Length Std', 'Bwd Packet Length Max',\n",
      "       'Bwd Packet Length Min', 'Bwd Packet Length Mean',\n",
      "       'Bwd Packet Length Std', 'Flow Bytes/s', 'Flow Packets/s',\n",
      "       'Flow IAT Mean', 'Flow IAT Std', 'Flow IAT Max', 'Flow IAT Min',\n",
      "       'Fwd IAT Total', 'Fwd IAT Mean', 'Fwd IAT Std', 'Fwd IAT Max',\n",
      "       'Fwd IAT Min', 'Bwd IAT Total', 'Bwd IAT Mean', 'Bwd IAT Std',\n",
      "       'Bwd IAT Max', 'Bwd IAT Min', 'Fwd PSH Flags', 'Bwd PSH Flags',\n",
      "       'Fwd URG Flags', 'Bwd URG Flags', 'Fwd Header Length',\n",
      "       'Bwd Header Length', 'Fwd Packets/s', 'Bwd Packets/s',\n",
      "       'Min Packet Length', 'Max Packet Length', 'Packet Length Mean',\n",
      "       'Packet Length Std', 'Packet Length Variance', 'FIN Flag Count',\n",
      "       'SYN Flag Count', 'RST Flag Count', 'PSH Flag Count', 'ACK Flag Count',\n",
      "       'URG Flag Count', 'CWE Flag Count', 'ECE Flag Count', 'Down/Up Ratio',\n",
      "       'Average Packet Size', 'Avg Fwd Segment Size', 'Avg Bwd Segment Size',\n",
      "       'Fwd Header Length.1', 'Fwd Avg Bytes/Bulk', 'Fwd Avg Packets/Bulk',\n",
      "       'Fwd Avg Bulk Rate', 'Bwd Avg Bytes/Bulk', 'Bwd Avg Packets/Bulk',\n",
      "       'Bwd Avg Bulk Rate', 'Subflow Fwd Packets', 'Subflow Fwd Bytes',\n",
      "       'Subflow Bwd Packets', 'Subflow Bwd Bytes', 'Init_Win_bytes_forward',\n",
      "       'Init_Win_bytes_backward', 'act_data_pkt_fwd', 'min_seg_size_forward',\n",
      "       'Active Mean', 'Active Std', 'Active Max', 'Active Min', 'Idle Mean',\n",
      "       'Idle Std', 'Idle Max', 'Idle Min', 'Label', 'label_mapped'],\n",
      "      dtype='object')\n",
      "All columns in selected_columns are present in the dataset.\n"
     ]
    }
   ],
   "source": [
    "df_map_labels = norm_data.mapping_label(df_norm_colums)\n",
    "print(df_map_labels.columns)\n",
    "importance_colums = [\n",
    "    \"PSH Flag Count\", \"min_seg_size_forward\", \"Flow IAT Max\", \"Flow IAT Min\", \"ACK Flag Count\", \"Destination Port\", \"Bwd Packet Length Mean\", \"Bwd Packet Length Max\", \"Bwd Packet Length Min\", \"Init_Win_bytes_forward\",\n",
    "    \"Fwd IAT Max\", \"Idle Mean\", \"Idle Max\", \"Avg Bwd Segment Size\", \"Bwd Packet Length Std\", \"Bwd IAT Mean\", \"Fwd IAT Std\", \"Down/Up Ratio\", \"Max Packet Length\", \"Average Packet Size\",\n",
    "    \"Min Packet Length\", \"Packet Length Std\", \"Fwd Packets/s\", \"Packet Length Mean\", \"Flow IAT Std\", \"URG Flag Count\", \"FIN Flag Count\", \"Fwd Packet Length Min\", \"Subflow Fwd Packets\", \"Bwd IAT Max\",\n",
    "    \"Packet Length Variance\", \"Fwd IAT Mean\", \"Flow Duration\", \"Fwd IAT Total\", \"Bwd IAT Std\", \"Flow IAT Mean\"\n",
    "]\n",
    "importance_colums = importance_colums + [\"Label\"] + [\"label_mapped\"]\n",
    "select_columns = norm_data.select_columns(df_map_labels,importance_colums)\n",
    "output_path = \"selected_dataset.csv\"\n",
    "# Xuất ra file CSV\n",
    "select_columns.to_csv(output_path, index=False, encoding=\"utf-8\")\n",
    "# select_columns.columns"
   ]
  },
  {
   "cell_type": "code",
   "execution_count": null,
   "id": "e2dd210e",
   "metadata": {},
   "outputs": [],
   "source": []
  }
 ],
 "metadata": {
  "kernelspec": {
   "display_name": "ddos",
   "language": "python",
   "name": "python3"
  },
  "language_info": {
   "codemirror_mode": {
    "name": "ipython",
    "version": 3
   },
   "file_extension": ".py",
   "mimetype": "text/x-python",
   "name": "python",
   "nbconvert_exporter": "python",
   "pygments_lexer": "ipython3",
   "version": "3.10.18"
  }
 },
 "nbformat": 4,
 "nbformat_minor": 5
}
